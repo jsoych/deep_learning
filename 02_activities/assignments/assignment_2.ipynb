{
  "cells": [
    {
      "cell_type": "markdown",
      "id": "7c6788aef474ca12",
      "metadata": {
        "collapsed": false,
        "id": "7c6788aef474ca12"
      },
      "source": [
        "# Text Generation with Recurrent Neural Networks (RNNs)\n",
        "\n",
        "In this assignment, you'll build upon your understanding of RNNs and Keras to develop a word-level text generation model.  Your goal is to train a model that learns the stylistic nuances of a chosen corpus and generates new, original text segments that echo the source material's essence.\n",
        "\n",
        "**Datasets**\n",
        "\n",
        "We've provided several intriguing text corpora to get you started:\n",
        "\n",
        "*   Mark Twain\n",
        "*   Charles Dickens\n",
        "*   William Shakespeare\n",
        "\n",
        "**Feel free to explore!**  If you have a particular passion for another author, genre, or a specific text, you're encouraged to use your own dataset of raw text."
      ]
    },
    {
      "cell_type": "code",
      "execution_count": 1,
      "id": "2d0bfedcfe52aedc",
      "metadata": {
        "colab": {
          "base_uri": "https://localhost:8080/"
        },
        "id": "2d0bfedcfe52aedc",
        "outputId": "d7171bd9-d2e6-452c-a317-081ed6459bd8"
      },
      "outputs": [
        {
          "name": "stdout",
          "output_type": "stream",
          "text": [
            "2.17.0\n",
            "Default GPU Device: /device:GPU:0\n"
          ]
        }
      ],
      "source": [
        "import tensorflow as tf\n",
        "\n",
        "# Check version of tensorflow\n",
        "print(tf.__version__)\n",
        "\n",
        "# Check if we have a GPU available\n",
        "if tf.test.gpu_device_name():\n",
        "    print('Default GPU Device: {}'.format(tf.test.gpu_device_name()))\n",
        "else:\n",
        "    print(\"No GPU available. If you're on Colab, go to Runtime > Change runtime and select a GPU hardware accelerator.\")"
      ]
    },
    {
      "cell_type": "code",
      "execution_count": 2,
      "id": "rLlrb3Lh7Bka",
      "metadata": {
        "colab": {
          "base_uri": "https://localhost:8080/"
        },
        "id": "rLlrb3Lh7Bka",
        "outputId": "366ff458-54dd-4f38-c8c9-27604dd0cf59"
      },
      "outputs": [
        {
          "name": "stdout",
          "output_type": "stream",
          "text": [
            "Collecting PyGithub\n",
            "  Downloading PyGithub-2.3.0-py3-none-any.whl.metadata (3.8 kB)\n",
            "Collecting pynacl>=1.4.0 (from PyGithub)\n",
            "  Downloading PyNaCl-1.5.0-cp36-abi3-manylinux_2_17_x86_64.manylinux2014_x86_64.manylinux_2_24_x86_64.whl.metadata (8.6 kB)\n",
            "Requirement already satisfied: requests>=2.14.0 in /usr/local/lib/python3.10/dist-packages (from PyGithub) (2.32.3)\n",
            "Requirement already satisfied: pyjwt>=2.4.0 in /usr/local/lib/python3.10/dist-packages (from pyjwt[crypto]>=2.4.0->PyGithub) (2.9.0)\n",
            "Requirement already satisfied: typing-extensions>=4.0.0 in /usr/local/lib/python3.10/dist-packages (from PyGithub) (4.12.2)\n",
            "Requirement already satisfied: urllib3>=1.26.0 in /usr/local/lib/python3.10/dist-packages (from PyGithub) (2.0.7)\n",
            "Collecting Deprecated (from PyGithub)\n",
            "  Downloading Deprecated-1.2.14-py2.py3-none-any.whl.metadata (5.4 kB)\n",
            "Requirement already satisfied: cryptography>=3.4.0 in /usr/local/lib/python3.10/dist-packages (from pyjwt[crypto]>=2.4.0->PyGithub) (42.0.8)\n",
            "Requirement already satisfied: cffi>=1.4.1 in /usr/local/lib/python3.10/dist-packages (from pynacl>=1.4.0->PyGithub) (1.17.0)\n",
            "Requirement already satisfied: charset-normalizer<4,>=2 in /usr/local/lib/python3.10/dist-packages (from requests>=2.14.0->PyGithub) (3.3.2)\n",
            "Requirement already satisfied: idna<4,>=2.5 in /usr/local/lib/python3.10/dist-packages (from requests>=2.14.0->PyGithub) (3.7)\n",
            "Requirement already satisfied: certifi>=2017.4.17 in /usr/local/lib/python3.10/dist-packages (from requests>=2.14.0->PyGithub) (2024.7.4)\n",
            "Requirement already satisfied: wrapt<2,>=1.10 in /usr/local/lib/python3.10/dist-packages (from Deprecated->PyGithub) (1.16.0)\n",
            "Requirement already satisfied: pycparser in /usr/local/lib/python3.10/dist-packages (from cffi>=1.4.1->pynacl>=1.4.0->PyGithub) (2.22)\n",
            "Downloading PyGithub-2.3.0-py3-none-any.whl (354 kB)\n",
            "\u001b[2K   \u001b[90m━━━━━━━━━━━━━━━━━━━━━━━━━━━━━━━━━━━━━━━━\u001b[0m \u001b[32m354.4/354.4 kB\u001b[0m \u001b[31m19.2 MB/s\u001b[0m eta \u001b[36m0:00:00\u001b[0m\n",
            "\u001b[?25hDownloading PyNaCl-1.5.0-cp36-abi3-manylinux_2_17_x86_64.manylinux2014_x86_64.manylinux_2_24_x86_64.whl (856 kB)\n",
            "\u001b[2K   \u001b[90m━━━━━━━━━━━━━━━━━━━━━━━━━━━━━━━━━━━━━━━━\u001b[0m \u001b[32m856.7/856.7 kB\u001b[0m \u001b[31m44.1 MB/s\u001b[0m eta \u001b[36m0:00:00\u001b[0m\n",
            "\u001b[?25hDownloading Deprecated-1.2.14-py2.py3-none-any.whl (9.6 kB)\n",
            "Installing collected packages: Deprecated, pynacl, PyGithub\n",
            "Successfully installed Deprecated-1.2.14 PyGithub-2.3.0 pynacl-1.5.0\n"
          ]
        }
      ],
      "source": [
        "# Check and download the needed packages\n",
        "import importlib\n",
        "\n",
        "def install_if_missing(package):\n",
        "    if importlib.util.find_spec(package) is None:\n",
        "        !pip install {package}\n",
        "\n",
        "# Download the needed packages\n",
        "for package in ['PyGithub']:\n",
        "    install_if_missing(package)"
      ]
    },
    {
      "cell_type": "code",
      "execution_count": 3,
      "id": "867QxGMhBzwD",
      "metadata": {
        "id": "867QxGMhBzwD"
      },
      "outputs": [],
      "source": [
        "from github import Github\n",
        "\n",
        "# Authentication is defined via github.Auth\n",
        "from github import Auth\n",
        "\n",
        "# Read only access to deep_learning repo\n",
        "auth = Auth.Token()\n",
        "\n",
        "# Public web Github\n",
        "with Github(auth=auth) as gh:\n",
        "    # Get deep_learning repo\n",
        "    repo = gh.get_repo('jsoych/deep_learning')\n",
        "\n",
        "    # Get metadata.csv from downloaded_books directory\n",
        "    contents = repo.get_contents(path='02_activities/assignments/downloaded_books/metadata.csv')\n",
        "    rawdata = contents.decoded_content\n",
        "\n",
        "    # Write content to working directory\n",
        "    with open(contents.name, 'wb') as f:\n",
        "        f.write(rawdata)"
      ]
    },
    {
      "cell_type": "code",
      "execution_count": 4,
      "id": "_KojF_gFufji",
      "metadata": {
        "id": "_KojF_gFufji"
      },
      "outputs": [],
      "source": [
        "import os\n",
        "import pandas as pd\n",
        "import requests\n",
        "\n",
        "# Load metadata\n",
        "metadata = pd.read_csv('metadata.csv')\n",
        "\n",
        "# Make shakespeare directory\n",
        "if not(os.path.isdir('shakespeare')):\n",
        "    os.mkdir('shakespeare')\n",
        "\n",
        "# Download files and save files to shakespeare dictory\n",
        "for url in metadata['URL']:\n",
        "    # Get filename\n",
        "    head, filename = os.path.split(url)\n",
        "\n",
        "    # Create filepath\n",
        "    filepath = os.path.join('shakespeare', filename)\n",
        "\n",
        "    # Write the request body to filepath as text\n",
        "    if not(os.path.exists(filepath)):\n",
        "        r = requests.get(f'{url}')\n",
        "        if (r.status_code == 200):\n",
        "            with open(filepath, 'w', encoding='utf-8') as f:\n",
        "                f.write(r.text)\n",
        "        else:\n",
        "            print(f'{url} status code {r.status_code}')"
      ]
    },
    {
      "cell_type": "markdown",
      "id": "dab51c764031e606",
      "metadata": {
        "collapsed": false,
        "id": "dab51c764031e606"
      },
      "source": [
        "# 1. Data Preparation (Complete or Incomplete)\n",
        "\n",
        "Before we can begin training an RNN model, we need to prepare the dataset. This involves cleaning the text, tokenizing words, and creating sequences the model can be trained on.\n",
        "\n",
        "## 1.1 Data Exploration\n",
        "\n",
        "Print the first 1000 characters of the dataset. Report the dataset's size and the number of unique characters it contains."
      ]
    },
    {
      "cell_type": "code",
      "execution_count": 5,
      "id": "9c28c497f620b775",
      "metadata": {
        "id": "9c28c497f620b775"
      },
      "outputs": [],
      "source": [
        "# Get data from files in shakespeare directory\n",
        "texts = []\n",
        "with os.scandir('shakespeare') as dir_entries:\n",
        "    for e in dir_entries:\n",
        "        # Check if e is a file\n",
        "        if not(e.is_file()):\n",
        "            continue\n",
        "\n",
        "        # Read file and store text in data dictionary\n",
        "        with open(e.path, 'r', encoding='utf-8') as f:\n",
        "            text = f.read()\n",
        "            if text: # Check if text is empty\n",
        "                texts.append(text)\n",
        "            else:\n",
        "                print(f'{e.name} is empty')"
      ]
    },
    {
      "cell_type": "markdown",
      "id": "3ae1639f5ecfe587",
      "metadata": {
        "collapsed": false,
        "id": "3ae1639f5ecfe587"
      },
      "source": [
        "## 1.2 Text Pre-Processing\n",
        "\n",
        "To prepare the dataset for training, we need to clean the text and create a numerical representation the model can interpret. Perform the following pre-processing steps:\n",
        "\n",
        "*   Convert the entire text to lowercase.\n",
        "*   Use the `Tokenizer` class from the `keras.preprocessing.text` module to tokenize the text. You should fit the tokenizer on the text and then convert the text to a sequence of numbers. You can use the `texts_to_sequences` method to do this.\n",
        "\n",
        "**Note**:\n",
        "* You'll need to specify an appropriate size for the vocabulary. The number of words in the list of most common words can serve as a guide - does it seem like a reasonable vocabulary size?\n",
        "* Some of the words will be excluded from the vocabulary, as they don't appear often enough. It's important to provide a value for `oov_token` when creating the Tokenizer instance, so that these words can be represented as \"unknown\"."
      ]
    },
    {
      "cell_type": "code",
      "execution_count": 6,
      "id": "xixf7RoK6Odl",
      "metadata": {
        "id": "xixf7RoK6Odl"
      },
      "outputs": [],
      "source": [
        "# Define OOV_TOKEN\n",
        "OOV_TOKEN = 'unknown'\n",
        "\n",
        "# Create tokenizer\n",
        "tokenizer = tf.keras.preprocessing.text.Tokenizer(\n",
        "    num_words=None,\n",
        "    filters='!\"#$%&()*+,-./:;<=>?@[\\\\]^_`{|}~\\t\\n',\n",
        "    lower=True,\n",
        "    split=' ',\n",
        "    char_level=False,\n",
        "    oov_token=OOV_TOKEN,\n",
        "    analyzer=None\n",
        ")\n",
        "\n",
        "# Split texts into train, validation, and test texts\n",
        "train_texts = texts[0:4]\n",
        "val_texts = texts[4:5]\n",
        "test_texts = texts[5:6]\n",
        "\n",
        "# Fit tokenizer on train texts\n",
        "tokenizer.fit_on_texts(train_texts)\n",
        "\n",
        "# Get vocab size from fitted tokenizer\n",
        "VOCAB_SIZE = 0\n",
        "for seq in tokenizer.texts_to_sequences(train_texts):\n",
        "    curr_max = max(seq)\n",
        "    if (VOCAB_SIZE < curr_max):\n",
        "        VOCAB_SIZE = curr_max\n",
        "\n",
        "# Add OOV_TOKEN to VOCAB_SIZE\n",
        "VOCAB_SIZE += 1"
      ]
    },
    {
      "cell_type": "markdown",
      "id": "89d32bb9356f711",
      "metadata": {
        "collapsed": false,
        "id": "89d32bb9356f711"
      },
      "source": [
        "If everything worked, the following line should show you the first 10 words in the vocabulary:"
      ]
    },
    {
      "cell_type": "code",
      "execution_count": 7,
      "id": "6a7cd547a19feece",
      "metadata": {
        "colab": {
          "base_uri": "https://localhost:8080/"
        },
        "id": "6a7cd547a19feece",
        "outputId": "19bcde84-fae7-435a-df61-a02c4258fb1d"
      },
      "outputs": [
        {
          "name": "stdout",
          "output_type": "stream",
          "text": [
            "[('unknown', 2492), ('the', 2), ('and', 3), ('to', 4), ('of', 5), ('in', 6), ('a', 7), ('i', 8), ('ff', 9), ('you', 10)]\n"
          ]
        }
      ],
      "source": [
        "try:\n",
        "    print(list(tokenizer.word_index.items())[:10])\n",
        "except AttributeError:\n",
        "    print(\"Tokenizer has not been initialized. Possible issue: Complete the relevant section of the assignment to initialize it.\")"
      ]
    },
    {
      "cell_type": "markdown",
      "id": "da504e4bc6617613",
      "metadata": {
        "collapsed": false,
        "id": "da504e4bc6617613"
      },
      "source": [
        "## 1.3 Sequence Generation\n",
        "\n",
        "Now that the text has been tokenized, we need to create sequences the model can be trained on. There are two parts to this:\n",
        "\n",
        "*   Use the `texts_to_sequences` method from the tokenizer to convert the text to a list of sequences of numbers.\n",
        "*   Generate the training sequences. Each training sequence should contain `SEQ_LENGTH` token IDs from the text. The target token for each sequence should be the word that follows the sequence in the text."
      ]
    },
    {
      "cell_type": "code",
      "execution_count": 8,
      "id": "e-ybyCmuiEQC",
      "metadata": {
        "id": "e-ybyCmuiEQC"
      },
      "outputs": [],
      "source": [
        "import math\n",
        "import numpy as np\n",
        "\n",
        "class DataGenerator(tf.keras.utils.PyDataset):\n",
        "\n",
        "    \"\"\" DataGenerator prepares and batches data from a corpus. \"\"\"\n",
        "\n",
        "    def __init__(\n",
        "            self,\n",
        "            corpus,\n",
        "            vocab_size,\n",
        "            tokenizer,\n",
        "            batch_size=32,\n",
        "            seq_len=1024,\n",
        "            **kwargs\n",
        "        ):\n",
        "        \"\"\"\n",
        "        Args:\n",
        "            corpus: The corpus of text needed to generate batches.\n",
        "            vocab_size: The size of the fitted tokenizer vocabulary.\n",
        "            tokenizer: The fitted tokenizer used to tokenize the text.\n",
        "            batch_size: The size of each batch.\n",
        "            seq_len: The length of each sequence in each batch.\n",
        "        \"\"\"\n",
        "        super().__init__(**kwargs)\n",
        "        self.corpus = corpus\n",
        "        self.vocab_size = vocab_size\n",
        "        self.tokenizer = tokenizer\n",
        "        self.batch_size = batch_size\n",
        "        self.seq_len = seq_len\n",
        "        self.sequences = tokenizer.texts_to_sequences(corpus)\n",
        "\n",
        "    def __len__(self):\n",
        "        \"\"\" Returns the total number of batches. \"\"\"\n",
        "        tot_len = 0\n",
        "        for seq in self.sequences:\n",
        "            tot_len += max(len(seq) - self.seq_len - 1, 0)\n",
        "        return math.ceil(tot_len / self.batch_size)\n",
        "\n",
        "    def __getitem__(self, idx):\n",
        "        \"\"\" Gets the idx'th batch of data. \"\"\"\n",
        "        X_batch = []\n",
        "        y_batch = []\n",
        "        batch_size = self.batch_size\n",
        "        low = idx * self.batch_size\n",
        "        for seq in self.sequences:\n",
        "            # Check low against the number of tokens in the current text\n",
        "            if (low > (max(len(seq) - self.seq_len - 1, 0))):\n",
        "                low -= (max(len(seq) - self.seq_len - 1, 0))\n",
        "                continue\n",
        "\n",
        "            # Compute the upper index bound\n",
        "            high = min(low + batch_size, len(seq) - self.seq_len - 1)\n",
        "\n",
        "            for i in range(low, high):\n",
        "                # Check if y is oov_token\n",
        "                y = seq[i + self.seq_len]\n",
        "                if (y == self.tokenizer.oov_token):\n",
        "                    continue\n",
        "\n",
        "                # Add X to X_batch\n",
        "                X_batch.append(seq[i : i + self.seq_len])\n",
        "\n",
        "                # Add y to y_batch\n",
        "                y_batch.append(y)\n",
        "\n",
        "                # Deincrement batch_size\n",
        "                batch_size -= 1\n",
        "\n",
        "            # Check if batch_size is zero\n",
        "            if not(batch_size):\n",
        "                break\n",
        "\n",
        "            # Set low to zero\n",
        "            low = 0\n",
        "\n",
        "        return np.array(X_batch), np.array(y_batch)\n",
        "\n",
        "    def summary(self):\n",
        "        \"\"\" Prints a summary of the data generator. \"\"\"\n",
        "        s = f'number of texts in corpus is {len(self.corpus)}\\n'\n",
        "        print(s)"
      ]
    },
    {
      "cell_type": "code",
      "execution_count": 9,
      "id": "4ff5fc8d0273709c",
      "metadata": {
        "colab": {
          "base_uri": "https://localhost:8080/"
        },
        "id": "4ff5fc8d0273709c",
        "outputId": "e2bae267-4787-428f-e6f9-0367c2e79ab8"
      },
      "outputs": [
        {
          "name": "stdout",
          "output_type": "stream",
          "text": [
            "number of texts in corpus is 4\n",
            "\n",
            "number of texts in corpus is 1\n",
            "\n"
          ]
        }
      ],
      "source": [
        "# Define global variables\n",
        "SEQ_LENGTH = 1024\n",
        "BATCH_SIZE = 128\n",
        "\n",
        "train_data_gen = DataGenerator(\n",
        "    corpus=train_texts,\n",
        "    vocab_size=VOCAB_SIZE,\n",
        "    tokenizer=tokenizer,\n",
        "    batch_size=BATCH_SIZE,\n",
        "    seq_length=SEQ_LENGTH\n",
        ")\n",
        "train_data_gen.summary()\n",
        "\n",
        "val_data_gen = DataGenerator(\n",
        "    corpus=val_texts,\n",
        "    vocab_size=VOCAB_SIZE,\n",
        "    tokenizer=tokenizer,\n",
        "    batch_size=BATCH_SIZE,\n",
        "    seq_length=SEQ_LENGTH\n",
        ")\n",
        "val_data_gen.summary()"
      ]
    },
    {
      "cell_type": "code",
      "execution_count": 11,
      "id": "2QbOMRzvX8HH",
      "metadata": {
        "id": "2QbOMRzvX8HH"
      },
      "outputs": [],
      "source": [
        "# Get example X_batch and y_batch\n",
        "X_batch, y_batch = train_data_gen.__getitem__(0)"
      ]
    },
    {
      "cell_type": "code",
      "execution_count": 12,
      "id": "cSArm54niwnz",
      "metadata": {
        "colab": {
          "base_uri": "https://localhost:8080/"
        },
        "id": "cSArm54niwnz",
        "outputId": "cd0147b8-6d25-4eca-99bb-ebc5a8b41165"
      },
      "outputs": [
        {
          "name": "stdout",
          "output_type": "stream",
          "text": [
            "his deed or he his 2815\n",
            "deed or he his manage 32\n",
            "or he his manage by 9038\n",
            "he his manage by thâ 89\n",
            "his manage by thâ well 1420\n",
            "manage by thâ well doing 4593\n",
            "by thâ well doing steed 14396\n",
            "thâ well doing steed âbut 988\n",
            "well doing steed âbut quickly 39\n",
            "doing steed âbut quickly on 22\n",
            "steed âbut quickly on this 677\n",
            "âbut quickly on this side 2\n",
            "quickly on this side the 6263\n",
            "on this side the verdict 473\n",
            "this side the verdict went 14\n",
            "side the verdict went his 2951\n",
            "the verdict went his real 21862\n",
            "verdict went his real habitude 375\n",
            "went his real habitude gave 179\n",
            "his real habitude gave life 3\n",
            "real habitude gave life and 277\n",
            "habitude gave life and grace 4\n",
            "gave life and grace to 21863\n",
            "life and grace to appertainings 3\n",
            "and grace to appertainings and 4\n",
            "grace to appertainings and to 14402\n",
            "to appertainings and to ornament 21864\n",
            "appertainings and to ornament accomplishâd 6\n",
            "and to ornament accomplishâd in 201\n",
            "to ornament accomplishâd in himself 20\n",
            "ornament accomplishâd in himself not 6\n",
            "accomplishâd in himself not in 14\n",
            "in himself not in his 1033\n",
            "himself not in his case 43\n",
            "not in his case all 16606\n",
            "in his case all aids 751\n",
            "his case all aids themselves 178\n",
            "case all aids themselves made 9039\n",
            "all aids themselves made fairer 32\n",
            "aids themselves made fairer by 83\n",
            "themselves made fairer by their 272\n",
            "made fairer by their place 219\n",
            "fairer by their place came 21\n",
            "by their place came for 2816\n",
            "their place came for additions 130\n",
            "place came for additions yet 83\n",
            "came for additions yet their 21865\n",
            "for additions yet their purposâd 4594\n",
            "additions yet their purposâd trim 21866\n",
            "yet their purposâd trim piecâd 20\n",
            "their purposâd trim piecâd not 14\n",
            "purposâd trim piecâd not his 277\n",
            "trim piecâd not his grace 23\n",
            "piecâd not his grace but 96\n",
            "not his grace but were 43\n",
            "his grace but were all 21867\n",
            "grace but were all gracâd 32\n",
            "but were all gracâd by 28\n",
            "were all gracâd by him 16607\n",
            "all gracâd by him âso 39\n",
            "gracâd by him âso on 2\n",
            "by him âso on the 16608\n",
            "him âso on the tip 5\n",
            "âso on the tip of 14\n",
            "on the tip of his 21868\n",
            "the tip of his subduing 358\n",
            "tip of his subduing tongue 43\n",
            "of his subduing tongue all 404\n",
            "his subduing tongue all kind 5\n",
            "subduing tongue all kind of 7246\n",
            "tongue all kind of arguments 3\n",
            "all kind of arguments and 706\n",
            "kind of arguments and question 812\n",
            "of arguments and question deep 43\n",
            "arguments and question deep all 16609\n",
            "and question deep all replication 6264\n",
            "question deep all replication prompt 3\n",
            "deep all replication prompt and 389\n",
            "all replication prompt and reason 752\n",
            "replication prompt and reason strong 21\n",
            "prompt and reason strong for 14\n",
            "and reason strong for his 1379\n",
            "reason strong for his advantage 233\n",
            "strong for his advantage still 107\n",
            "for his advantage still did 2114\n",
            "his advantage still did wake 3\n",
            "advantage still did wake and 519\n",
            "still did wake and sleep 4\n",
            "did wake and sleep to 117\n",
            "wake and sleep to make 2\n",
            "and sleep to make the 21869\n",
            "sleep to make the weeper 1316\n",
            "to make the weeper laugh 2\n",
            "make the weeper laugh the 21870\n",
            "the weeper laugh the laugher 876\n",
            "weeper laugh the laugher weep 15\n",
            "laugh the laugher weep he 53\n",
            "the laugher weep he had 2\n",
            "laugher weep he had the 14403\n",
            "weep he had the dialect 3\n",
            "he had the dialect and 1270\n",
            "had the dialect and different 2268\n",
            "the dialect and different skill 7247\n",
            "dialect and different skill catching 43\n",
            "and different skill catching all 6265\n",
            "different skill catching all passions 6\n",
            "skill catching all passions in 14\n",
            "catching all passions in his 3105\n",
            "all passions in his craft 5\n",
            "passions in his craft of 41\n",
            "in his craft of will 14404\n",
            "his craft of will âthat 15\n",
            "craft of will âthat he 107\n",
            "of will âthat he did 6\n",
            "will âthat he did in 2\n",
            "âthat he did in the 564\n",
            "he did in the general 1002\n",
            "did in the general bosom 3678\n",
            "in the general bosom reign 5\n",
            "the general bosom reign of 194\n",
            "general bosom reign of young 5\n",
            "bosom reign of young of 160\n",
            "reign of young of old 3\n",
            "of young of old and 21871\n",
            "young of old and sexes 234\n",
            "of old and sexes both 6266\n",
            "old and sexes both enchanted 4\n",
            "and sexes both enchanted to 4595\n"
          ]
        }
      ],
      "source": [
        "# Print example X_batch and y_batch\n",
        "for words, target in zip(tokenizer.sequences_to_texts([seq[-5:] for seq in X_batch]), y_batch):\n",
        "    print(f'{words} {target}')"
      ]
    },
    {
      "cell_type": "markdown",
      "id": "b6e4161897210434",
      "metadata": {
        "collapsed": false,
        "id": "b6e4161897210434"
      },
      "source": [
        "# 2. Model Development (Complete or Incomplete)\n",
        "\n",
        "With the dataset prepared, it's time to develop the RNN model. You'll need to define the architecture of the model, compile it, and prepare it for training.\n",
        "\n",
        "## 2.1 Model Architecture\n",
        "\n",
        "Define the architecture of your RNN model. You can design it however you like, but there are a few features that it's important to include:\n",
        "\n",
        "*   An embedding layer that learns a dense representation of the input tokens. You'll need to specify the input dimension (the size of the vocabulary) and the output dimension (the size of the dense representation). Remember, you can look at the documentation [here](https://keras.io/api/layers/core_layers/embedding/).\n",
        "*   At least one recurrent layer. We have learned how to use LSTM layers in class, but you can use other types of recurrent layers if you prefer. You can find the documentation [here](https://keras.io/api/layers/recurrent_layers/lstm/).\n",
        "*   A dense layer with a softmax activation function. This layer will output a probability distribution over the vocabulary, so that the model can make predictions about the next token."
      ]
    },
    {
      "cell_type": "code",
      "execution_count": 16,
      "id": "9fdfaad93818fc8d",
      "metadata": {
        "colab": {
          "base_uri": "https://localhost:8080/",
          "height": 226
        },
        "id": "9fdfaad93818fc8d",
        "outputId": "3ee3c5a7-34bf-44ac-fc92-b32f82a62cb7"
      },
      "outputs": [
        {
          "data": {
            "text/html": [
              "<pre style=\"white-space:pre;overflow-x:auto;line-height:normal;font-family:Menlo,'DejaVu Sans Mono',consolas,'Courier New',monospace\"><span style=\"font-weight: bold\">Model: \"rnn\"</span>\n",
              "</pre>\n"
            ],
            "text/plain": [
              "\u001b[1mModel: \"rnn\"\u001b[0m\n"
            ]
          },
          "metadata": {},
          "output_type": "display_data"
        },
        {
          "data": {
            "text/html": [
              "<pre style=\"white-space:pre;overflow-x:auto;line-height:normal;font-family:Menlo,'DejaVu Sans Mono',consolas,'Courier New',monospace\">┏━━━━━━━━━━━━━━━━━━━━━━━━━━━━━━━━━━━━━━┳━━━━━━━━━━━━━━━━━━━━━━━━━━━━━┳━━━━━━━━━━━━━━━━━┓\n",
              "┃<span style=\"font-weight: bold\"> Layer (type)                         </span>┃<span style=\"font-weight: bold\"> Output Shape                </span>┃<span style=\"font-weight: bold\">         Param # </span>┃\n",
              "┡━━━━━━━━━━━━━━━━━━━━━━━━━━━━━━━━━━━━━━╇━━━━━━━━━━━━━━━━━━━━━━━━━━━━━╇━━━━━━━━━━━━━━━━━┩\n",
              "│ embedding_layer (<span style=\"color: #0087ff; text-decoration-color: #0087ff\">Embedding</span>)          │ ?                           │     <span style=\"color: #00af00; text-decoration-color: #00af00\">0</span> (unbuilt) │\n",
              "├──────────────────────────────────────┼─────────────────────────────┼─────────────────┤\n",
              "│ lstm_layer (<span style=\"color: #0087ff; text-decoration-color: #0087ff\">LSTM</span>)                    │ ?                           │     <span style=\"color: #00af00; text-decoration-color: #00af00\">0</span> (unbuilt) │\n",
              "├──────────────────────────────────────┼─────────────────────────────┼─────────────────┤\n",
              "│ output_layer (<span style=\"color: #0087ff; text-decoration-color: #0087ff\">Dense</span>)                 │ ?                           │     <span style=\"color: #00af00; text-decoration-color: #00af00\">0</span> (unbuilt) │\n",
              "└──────────────────────────────────────┴─────────────────────────────┴─────────────────┘\n",
              "</pre>\n"
            ],
            "text/plain": [
              "┏━━━━━━━━━━━━━━━━━━━━━━━━━━━━━━━━━━━━━━┳━━━━━━━━━━━━━━━━━━━━━━━━━━━━━┳━━━━━━━━━━━━━━━━━┓\n",
              "┃\u001b[1m \u001b[0m\u001b[1mLayer (type)                        \u001b[0m\u001b[1m \u001b[0m┃\u001b[1m \u001b[0m\u001b[1mOutput Shape               \u001b[0m\u001b[1m \u001b[0m┃\u001b[1m \u001b[0m\u001b[1m        Param #\u001b[0m\u001b[1m \u001b[0m┃\n",
              "┡━━━━━━━━━━━━━━━━━━━━━━━━━━━━━━━━━━━━━━╇━━━━━━━━━━━━━━━━━━━━━━━━━━━━━╇━━━━━━━━━━━━━━━━━┩\n",
              "│ embedding_layer (\u001b[38;5;33mEmbedding\u001b[0m)          │ ?                           │     \u001b[38;5;34m0\u001b[0m (unbuilt) │\n",
              "├──────────────────────────────────────┼─────────────────────────────┼─────────────────┤\n",
              "│ lstm_layer (\u001b[38;5;33mLSTM\u001b[0m)                    │ ?                           │     \u001b[38;5;34m0\u001b[0m (unbuilt) │\n",
              "├──────────────────────────────────────┼─────────────────────────────┼─────────────────┤\n",
              "│ output_layer (\u001b[38;5;33mDense\u001b[0m)                 │ ?                           │     \u001b[38;5;34m0\u001b[0m (unbuilt) │\n",
              "└──────────────────────────────────────┴─────────────────────────────┴─────────────────┘\n"
            ]
          },
          "metadata": {},
          "output_type": "display_data"
        },
        {
          "data": {
            "text/html": [
              "<pre style=\"white-space:pre;overflow-x:auto;line-height:normal;font-family:Menlo,'DejaVu Sans Mono',consolas,'Courier New',monospace\"><span style=\"font-weight: bold\"> Total params: </span><span style=\"color: #00af00; text-decoration-color: #00af00\">0</span> (0.00 B)\n",
              "</pre>\n"
            ],
            "text/plain": [
              "\u001b[1m Total params: \u001b[0m\u001b[38;5;34m0\u001b[0m (0.00 B)\n"
            ]
          },
          "metadata": {},
          "output_type": "display_data"
        },
        {
          "data": {
            "text/html": [
              "<pre style=\"white-space:pre;overflow-x:auto;line-height:normal;font-family:Menlo,'DejaVu Sans Mono',consolas,'Courier New',monospace\"><span style=\"font-weight: bold\"> Trainable params: </span><span style=\"color: #00af00; text-decoration-color: #00af00\">0</span> (0.00 B)\n",
              "</pre>\n"
            ],
            "text/plain": [
              "\u001b[1m Trainable params: \u001b[0m\u001b[38;5;34m0\u001b[0m (0.00 B)\n"
            ]
          },
          "metadata": {},
          "output_type": "display_data"
        },
        {
          "data": {
            "text/html": [
              "<pre style=\"white-space:pre;overflow-x:auto;line-height:normal;font-family:Menlo,'DejaVu Sans Mono',consolas,'Courier New',monospace\"><span style=\"font-weight: bold\"> Non-trainable params: </span><span style=\"color: #00af00; text-decoration-color: #00af00\">0</span> (0.00 B)\n",
              "</pre>\n"
            ],
            "text/plain": [
              "\u001b[1m Non-trainable params: \u001b[0m\u001b[38;5;34m0\u001b[0m (0.00 B)\n"
            ]
          },
          "metadata": {},
          "output_type": "display_data"
        }
      ],
      "source": [
        "from keras import Sequential, Input\n",
        "from keras.layers import Embedding, LSTM, Dense\n",
        "\n",
        "model = Sequential(name='rnn')\n",
        "model.add(Embedding(VOCAB_SIZE, 256, name='embedding_layer'))\n",
        "model.add(LSTM(256, name='lstm_layer'))\n",
        "model.add(Dense(VOCAB_SIZE, activation='softmax', name='output_layer'))\n",
        "model.summary()"
      ]
    },
    {
      "cell_type": "markdown",
      "id": "2fafd2dbb0d589fc",
      "metadata": {
        "collapsed": false,
        "id": "2fafd2dbb0d589fc"
      },
      "source": [
        "## 2.2 Model Compilation\n",
        "\n",
        "Compile the model with an appropriate loss function and optimizer. You might also want to track additional metrics, such as accuracy.\n",
        "\n",
        "Give a short explanation of your choice of loss function and optimizer:\n",
        "\n",
        "Generating the next word is similar to sentiment analysis or image classification. If we consider the next word as a class, then a natural choice for our loss function is categorical cross entropy. A good start for optimizer is Adam, since it includes an adaptive learning rate."
      ]
    },
    {
      "cell_type": "code",
      "execution_count": 17,
      "id": "ae4ca7a12051b1fd",
      "metadata": {
        "id": "ae4ca7a12051b1fd"
      },
      "outputs": [],
      "source": [
        "from keras.losses import SparseCategoricalCrossentropy\n",
        "from keras.optimizers import Adam\n",
        "\n",
        "model.compile(loss=SparseCategoricalCrossentropy(), optimizer=Adam())"
      ]
    },
    {
      "cell_type": "markdown",
      "id": "c2f0b90a448c4f4b",
      "metadata": {
        "collapsed": false,
        "id": "c2f0b90a448c4f4b"
      },
      "source": [
        "## 2.3 Model Training\n",
        "\n",
        "Train the model on the training data you've prepared.\n",
        "\n",
        "* Train your model for 5 epochs with a batch size of 128. Use the validation data for validation.\n",
        "* Store the training history in a variable called `history`."
      ]
    },
    {
      "cell_type": "code",
      "execution_count": 20,
      "id": "256b1ea138c67ef7",
      "metadata": {
        "colab": {
          "base_uri": "https://localhost:8080/"
        },
        "id": "256b1ea138c67ef7",
        "outputId": "0b898b29-bde8-4480-d3b4-4adc4435ad46"
      },
      "outputs": [
        {
          "name": "stdout",
          "output_type": "stream",
          "text": [
            "Epoch 1/5\n",
            "\u001b[1m4406/4406\u001b[0m \u001b[32m━━━━━━━━━━━━━━━━━━━━\u001b[0m\u001b[37m\u001b[0m \u001b[1m334s\u001b[0m 76ms/step - loss: 6.1736 - val_loss: 6.7633\n",
            "Epoch 2/5\n",
            "\u001b[1m4406/4406\u001b[0m \u001b[32m━━━━━━━━━━━━━━━━━━━━\u001b[0m\u001b[37m\u001b[0m \u001b[1m335s\u001b[0m 76ms/step - loss: 5.5436 - val_loss: 6.8382\n",
            "Epoch 3/5\n",
            "\u001b[1m4406/4406\u001b[0m \u001b[32m━━━━━━━━━━━━━━━━━━━━\u001b[0m\u001b[37m\u001b[0m \u001b[1m334s\u001b[0m 76ms/step - loss: 5.0101 - val_loss: 7.0380\n",
            "Epoch 4/5\n",
            "\u001b[1m4406/4406\u001b[0m \u001b[32m━━━━━━━━━━━━━━━━━━━━\u001b[0m\u001b[37m\u001b[0m \u001b[1m335s\u001b[0m 76ms/step - loss: 4.4800 - val_loss: 7.2480\n",
            "Epoch 5/5\n",
            "\u001b[1m4406/4406\u001b[0m \u001b[32m━━━━━━━━━━━━━━━━━━━━\u001b[0m\u001b[37m\u001b[0m \u001b[1m335s\u001b[0m 76ms/step - loss: 4.0092 - val_loss: 7.4537\n"
          ]
        }
      ],
      "source": [
        "history = model.fit(\n",
        "    x=train_data_gen,\n",
        "    epochs=5,\n",
        "    batch_size=train_data_gen.batch_size,\n",
        "    validation_data=val_data_gen,\n",
        "    validation_batch_size=val_data_gen.batch_size\n",
        ")"
      ]
    },
    {
      "cell_type": "markdown",
      "id": "195c59bf80d2a2c4",
      "metadata": {
        "collapsed": false,
        "id": "195c59bf80d2a2c4"
      },
      "source": [
        "Plot the training history to visualize the model's learning progress. Your plot should include the training and validation loss."
      ]
    },
    {
      "cell_type": "code",
      "execution_count": 21,
      "id": "9e8cacec70d8f313",
      "metadata": {
        "colab": {
          "base_uri": "https://localhost:8080/",
          "height": 449
        },
        "id": "9e8cacec70d8f313",
        "outputId": "817c034e-aa38-4327-fd79-543af3629e17"
      },
      "outputs": [
        {
          "data": {
            "image/png": "[encoded data removed]",
            "text/plain": [
              "<Figure size 640x480 with 1 Axes>"
            ]
          },
          "metadata": {},
          "output_type": "display_data"
        }
      ],
      "source": [
        "import matplotlib.pyplot as plt\n",
        "\n",
        "def plot_history(history, *args):\n",
        "    for arg in args:\n",
        "        plt.plot(history.history[arg], label=f\"{arg}\")\n",
        "    plt.xlabel('epoch')\n",
        "    plt.legend()\n",
        "    plt.show()\n",
        "\n",
        "plot_history(history, 'loss')"
      ]
    },
    {
      "cell_type": "markdown",
      "id": "3d9ed71305787aed",
      "metadata": {
        "collapsed": false,
        "id": "3d9ed71305787aed"
      },
      "source": [
        "# 3. Text Generation (Complete or Incomplete)\n",
        "\n",
        "Write a method called `generate_text` that uses the trained model to generate new text. The method should take the following parameters:\n",
        "\n",
        "*   `model`: The trained RNN model.\n",
        "*   `tokenizer`: The tokenizer used to pre-process the text data.\n",
        "*   `seed_text`: The seed text the model will use to generate new text.\n",
        "*   `max_sequence_len`: The maximum length of the sequence used to generate new text.\n",
        "\n",
        "The method should return the generated text.\n",
        "\n",
        "An overview of the text generation process you should follow:\n",
        "\n",
        "1. Tokenize the seed text using the tokenizer we built before.\n",
        "2. Pad the sequences to the same length as the training sequences - you can use the `pad_sequences` method from the `keras.preprocessing.sequence` module, which is documented [here](https://www.tensorflow.org/api_docs/python/tf/keras/preprocessing/sequence/pad_sequences).\n",
        "3. Use the model to predict the next token in the sequence. Remember that the model will output a probability distribution over the vocabulary, so you'll need to use `np.argmax` to find the token with the highest probability.\n",
        "4. Add the predicted token to the sequence and remove the first token.\n",
        "5. Repeat steps 3-4 until you have generated the desired number of tokens.\n",
        "6. Convert the generated token IDs back to words and return the combined result as a single string.\n",
        "\n",
        "This is a challenging task, so don't hesitate to ask for help if you need it. It's okay if the generated text doesn't make much sense yet - we'll work on improving the model next.\n",
        "As a bonus, you can make your method generate \"gpt-style\" by having it print out each word as it's generated, so you can see the text being generated in real time."
      ]
    },
    {
      "cell_type": "code",
      "execution_count": 54,
      "id": "d73dbf278a1265ef",
      "metadata": {
        "id": "d73dbf278a1265ef"
      },
      "outputs": [],
      "source": [
        "from keras.utils import pad_sequences\n",
        "\n",
        "def get_predicted_word(model, sequence):\n",
        "    \"\"\"\n",
        "    Get the predicted word from the model.\n",
        "    This helper function uses a concept we haven't covered in class yet: temperature.\n",
        "    In essence, a little bit of randomness in what word we predict can make the text more interesting.\n",
        "    \"\"\"\n",
        "\n",
        "    # Use the model to predict the next token in the sequence\n",
        "    yhat = model.predict(sequence, verbose=0)\n",
        "\n",
        "    # Get the index of the predicted word, according to the probabilities\n",
        "    yhat = np.random.choice(range(VOCAB_SIZE+1), p=yhat.ravel())\n",
        "\n",
        "    return yhat\n",
        "\n",
        "def generate_text(model, tokenizer, seed_text, max_sequence_len):\n",
        "    \"\"\"\n",
        "    Generate new text using the trained model.\n",
        "    You can use the `get_predicted_word` helper function to help you with this.\n",
        "    \"\"\"\n",
        "    # Tokenize seed text\n",
        "    seq = tokenizer.texts_to_sequences([seed_text])\n",
        "\n",
        "    for i in range(max_sequence_len-1):\n",
        "        # Pad sequence with zeros\n",
        "        padded_seq = pad_sequences(seq, maxlen=max_sequence_len)\n",
        "\n",
        "        # Get model prediction\n",
        "        seq[0].append(get_predicted_word(model, padded_seq))\n",
        "\n",
        "    return tokenizer.sequences_to_texts(seq)\n"
      ]
    },
    {
      "cell_type": "code",
      "execution_count": 55,
      "id": "f463b0c3df49e2c",
      "metadata": {
        "colab": {
          "base_uri": "https://localhost:8080/"
        },
        "id": "f463b0c3df49e2c",
        "outputId": "a9be6f55-51ff-4470-e31f-9454d677eeec"
      },
      "outputs": [
        {
          "data": {
            "text/plain": [
              "[\"hamlet 4950 80 et un amoy de de nails de arma de coun de coun alice de parte alice de elbow la de nails allice de de foot alice m'en kath de elbow de nick de de de de nails de nick de de de an menton an nails alice sauf votre honneur de elbow kath m'en remercã®mens de mails alice de nails de despised de nails madame de coun de coun alice oui kath de coun 5396 kath je reciterai je reciterai sly de weeds maison madame fetch my fortunes for a hundred title to smooth land egregious slow that must yet god 5230 or let me feel your highness 6815 50 all my father o my lords be spoken with you 4433 3860 mowb i comes qâ\\x82\\x86 1642 well cap paid 98 k hen if we were good convey a number de cudie and yet kate is 3764 gow if name your lordship is sounded fran my lord the earl of westmoreland pist singing of two soldiers 31 120 some man of the parents being carried it hither lord philip scroop spur fair love that was this business broke with my heart that with the land 1886 35 ff a true to the king lie within my sword but then they shalbe my brother sons and the right troop of england xv 75 his power shall be sur henceforth those advantages find at hand and mortal bones unto the face when he being observed their confused beginning let us bring our souls into thy closet 5241 boling you know o'er our hands youle try his breathless approves with grief 4053 which long seems to ravel our friends leaving jove them in a sommers field in france 958 scroop of young earl of france is nothing but sure which sister's thy fortune son at this was three 5090 1841 5 did makes he found fame for this engrossed the hearts of england theobald 4560 to hill to win the western theoric 'gainst the hollow mary's lighted arms to the night 4050 did only his visit her purpose she stood with capering wounds and foix extends pretending to strike the field 95 peace again go to the ground shot by heauen i bar here all 4649 3995 10 that harry what 6233 destruction manage 1637 prol 3838 come come thy care begin for england fair cousin gentle percy i arrest thee and thy shoulder brother my powers is gone fair son hold ver should be he with his looks place stoop to answer your part the noble and third pound 190 scene iii a court scene england capell enter prince salisbury and attendants 1943 scene iii a hall at westminster act for a council hurt we do always variations at the internal forces at creating another support of purpose and to repair them the french miscarry like a number to scene xi ely house two dumbe theobald and rowe unless before the way he suggested to think of us that austria and disguised to close www vii that charles sitting the music same second 4533 five lord i am as two lines the first humane year and worke all my son's daughter ' verse for our way in the son's tale which were one word is mentioned but since ii ii 1 16 we a small preparation may be safer as or royally the printer's conjecture which editors from this corrected mr lettsom conjectures in paules humility p 1190 as a pen and adopted by rann with his copy of wyatt's edition for 'i was read 3719 ' dead malone 488 'o and who reads 'then forbid my frame and thus 'i know not well my lord 1781 i am assure you it is not a year to swim sold at london enter falstaff enter horatio with lovers' 2997 44 by the king's behove besides we became locked out by boccaccio laer among indeed this elder passage hand in p betweene qâ\\x82\\x81 35 to you you end in this report 720 by pain of ask most dust 1485 perhaps we have not on the state o' the dialogue since 1978 ' doth our speech in the end of the line 3828 3845 2230 to hamlet my lines 1645 a blank which ã´ offend with all that know of suspition majesty what drink'st thou do'st bid'st my hearse ' say i no 1632 o god save me further gaunt i think here i yours kiss my tongue ladyâ\\x80\\x99s sleepe should sweepe brother to my son speak to your majesty against his oath 90 king we do ghost 934 k hen no i have my letters harts laid out 4645 25 in the heat of the devil hand to our liues awhile â\\x80\\x9cis the knowledge of name dauphin i rake 225 to rush you bed enough most princely noble peer boling this is the drinke of all katherine do rakers the liver alice for ireland that doth courses make them on feast have shoulders for you to die must bring us back again sheads for these next this was the brass of day 270 be thank'd it mortal 45 and show of bleeding alarums their swelling body thou proud gentleman of name 427 and lay fire and in her womb gathering ways hath weigh'd 1611 this deposed to us all regiments bolingbroke katherine 15 at all adventures gives your paper pluck forth your manners like sent by england lands drums 50 and england lay your kingdome 155 for five and oft where thou takest boy who may inform no how far from myself but where is merely in very hard 2588 6285 that lives in the world for thy truth 1011 but nay ay my good lord i did not ham why then have you tutor me a cur maker here's by a counsel ' 155 and i'll have made me in all into whome my ears if i were prevented with my gates or 6856 6356 give me my father a more 4034 it will bruit that hath grief be paved upon my conduct betweene the ground hor who 836 and god the heirs of\"]"
            ]
          },
          "execution_count": 55,
          "metadata": {},
          "output_type": "execute_result"
        }
      ],
      "source": [
        "# Test the text generation function\n",
        "generate_text(model, tokenizer, 'hamlet', train_data_gen.seq_len)"
      ]
    },
    {
      "cell_type": "markdown",
      "id": "5871d836a0135c41",
      "metadata": {
        "collapsed": false,
        "id": "5871d836a0135c41"
      },
      "source": [
        "It's likely that the text generated by your model doesn't make much sense yet. This is because the model hasn't been trained for very long, and the training dataset is relatively small.\n",
        "\n",
        "# 4. Model Refinement (Complete or Incomplete)\n",
        "\n",
        "In this last section, you'll work on improving your model. There are many ways to do this, but here are a few ideas to get you started:\n",
        "\n",
        "* Use pre-trained embeddings: the code below will help you to load pre-trained embeddings through Keras.\n",
        "* Experiment with different model architectures, including the number of layers, the number of units in each layer, and the use of dropout layers.\n",
        "* Train your model for longer. You can also experiment with different batch sizes.\n",
        "\n",
        "Implement and test out at least one of these ideas. If you have other ideas for improving the model, feel free to try them out as well."
      ]
    },
    {
      "cell_type": "code",
      "execution_count": 56,
      "id": "dda8b0f845c20862",
      "metadata": {
        "colab": {
          "base_uri": "https://localhost:8080/"
        },
        "id": "dda8b0f845c20862",
        "outputId": "36fbdc4c-cd7e-4528-ac9b-27ce62ae9847"
      },
      "outputs": [
        {
          "name": "stdout",
          "output_type": "stream",
          "text": [
            "--2024-08-14 16:00:34--  https://downloads.cs.stanford.edu/nlp/data/glove.6B.zip\n",
            "Resolving downloads.cs.stanford.edu (downloads.cs.stanford.edu)... 171.64.64.22\n",
            "Connecting to downloads.cs.stanford.edu (downloads.cs.stanford.edu)|171.64.64.22|:443... connected.\n",
            "HTTP request sent, awaiting response... 200 OK\n",
            "Length: 862182613 (822M) [application/zip]\n",
            "Saving to: ‘glove.6B.zip’\n",
            "\n",
            "glove.6B.zip        100%[===================>] 822.24M  5.14MB/s    in 13m 59s \n",
            "\n",
            "2024-08-14 16:14:34 (1003 KB/s) - ‘glove.6B.zip’ saved [862182613/862182613]\n",
            "\n",
            "Archive:  glove.6B.zip\n",
            "  inflating: glove.6B.50d.txt        \n",
            "  inflating: glove.6B.100d.txt       \n",
            "  inflating: glove.6B.200d.txt       \n",
            "  inflating: glove.6B.300d.txt       \n"
          ]
        }
      ],
      "source": [
        "!wget https://downloads.cs.stanford.edu/nlp/data/glove.6B.zip\n",
        "!unzip glove.6B.zip"
      ]
    },
    {
      "cell_type": "code",
      "execution_count": 57,
      "id": "e8b777220505635",
      "metadata": {
        "colab": {
          "base_uri": "https://localhost:8080/"
        },
        "id": "e8b777220505635",
        "outputId": "c938694f-740a-44cc-f666-9684234d0c88"
      },
      "outputs": [
        {
          "name": "stdout",
          "output_type": "stream",
          "text": [
            "Found 400000 word vectors.\n"
          ]
        }
      ],
      "source": [
        "# Load the pre-trained embeddings\n",
        "embeddings_index = {}\n",
        "try:\n",
        "    with open('glove.6B.100d.txt', encoding='utf-8') as f:\n",
        "        for line in f:\n",
        "            values = line.split()\n",
        "            word = values[0]\n",
        "            coefs = np.asarray(values[1:], dtype='float32')\n",
        "            embeddings_index[word] = coefs\n",
        "    print(f'Found {len(embeddings_index)} word vectors.')\n",
        "except FileNotFoundError:\n",
        "    print(\"'glove.6B.100d.txt' File not found. Please make sure you have ran the previous cell.\")"
      ]
    },
    {
      "cell_type": "code",
      "execution_count": 58,
      "id": "d3e48ff004757cf2",
      "metadata": {
        "id": "d3e48ff004757cf2"
      },
      "outputs": [],
      "source": [
        "# Check if VOCAB_SIZE is set\n",
        "if VOCAB_SIZE is None:\n",
        "    print(\"You need to complete the previous parts of your assignment in order for this to work.\")\n",
        "else:\n",
        "    # Create an embedding matrix\n",
        "    embedding_matrix = np.zeros((VOCAB_SIZE, 100))\n",
        "    for word, i in tokenizer.word_index.items():\n",
        "        if i < (VOCAB_SIZE+1):\n",
        "            embedding_vector = embeddings_index.get(word)\n",
        "            if embedding_vector is not None:\n",
        "                embedding_matrix[i] = embedding_vector"
      ]
    },
    {
      "cell_type": "code",
      "execution_count": 64,
      "id": "e3d21d5dbbbcf9f9",
      "metadata": {
        "id": "e3d21d5dbbbcf9f9"
      },
      "outputs": [],
      "source": [
        "# Check if VOCAB_SIZE is set\n",
        "if VOCAB_SIZE is None:\n",
        "    print(\"You need to complete the previous parts of your assignment in order for this to work.\")\n",
        "else:\n",
        "    embedding_layer = Embedding(\n",
        "        VOCAB_SIZE,\n",
        "        100,\n",
        "        weights=[embedding_matrix],\n",
        "        input_length=1024,\n",
        "        trainable=False,\n",
        "        name='glove_embedding_layer'\n",
        "    )"
      ]
    },
    {
      "cell_type": "code",
      "execution_count": 65,
      "id": "ct65o5lSsWjr",
      "metadata": {
        "colab": {
          "base_uri": "https://localhost:8080/",
          "height": 226
        },
        "id": "ct65o5lSsWjr",
        "outputId": "03364ed1-9a11-4e1d-e448-c38e832f3f55"
      },
      "outputs": [
        {
          "data": {
            "text/html": [
              "<pre style=\"white-space:pre;overflow-x:auto;line-height:normal;font-family:Menlo,'DejaVu Sans Mono',consolas,'Courier New',monospace\"><span style=\"font-weight: bold\">Model: \"new_hamlet_model\"</span>\n",
              "</pre>\n"
            ],
            "text/plain": [
              "\u001b[1mModel: \"new_hamlet_model\"\u001b[0m\n"
            ]
          },
          "metadata": {},
          "output_type": "display_data"
        },
        {
          "data": {
            "text/html": [
              "<pre style=\"white-space:pre;overflow-x:auto;line-height:normal;font-family:Menlo,'DejaVu Sans Mono',consolas,'Courier New',monospace\">┏━━━━━━━━━━━━━━━━━━━━━━━━━━━━━━━━━━━━━━┳━━━━━━━━━━━━━━━━━━━━━━━━━━━━━┳━━━━━━━━━━━━━━━━━┓\n",
              "┃<span style=\"font-weight: bold\"> Layer (type)                         </span>┃<span style=\"font-weight: bold\"> Output Shape                </span>┃<span style=\"font-weight: bold\">         Param # </span>┃\n",
              "┡━━━━━━━━━━━━━━━━━━━━━━━━━━━━━━━━━━━━━━╇━━━━━━━━━━━━━━━━━━━━━━━━━━━━━╇━━━━━━━━━━━━━━━━━┩\n",
              "│ glove_embedding_layer (<span style=\"color: #0087ff; text-decoration-color: #0087ff\">Embedding</span>)    │ ?                           │       <span style=\"color: #00af00; text-decoration-color: #00af00\">3,283,000</span> │\n",
              "├──────────────────────────────────────┼─────────────────────────────┼─────────────────┤\n",
              "│ lstm_layer (<span style=\"color: #0087ff; text-decoration-color: #0087ff\">LSTM</span>)                    │ ?                           │     <span style=\"color: #00af00; text-decoration-color: #00af00\">0</span> (unbuilt) │\n",
              "├──────────────────────────────────────┼─────────────────────────────┼─────────────────┤\n",
              "│ output_layer (<span style=\"color: #0087ff; text-decoration-color: #0087ff\">Dense</span>)                 │ ?                           │     <span style=\"color: #00af00; text-decoration-color: #00af00\">0</span> (unbuilt) │\n",
              "└──────────────────────────────────────┴─────────────────────────────┴─────────────────┘\n",
              "</pre>\n"
            ],
            "text/plain": [
              "┏━━━━━━━━━━━━━━━━━━━━━━━━━━━━━━━━━━━━━━┳━━━━━━━━━━━━━━━━━━━━━━━━━━━━━┳━━━━━━━━━━━━━━━━━┓\n",
              "┃\u001b[1m \u001b[0m\u001b[1mLayer (type)                        \u001b[0m\u001b[1m \u001b[0m┃\u001b[1m \u001b[0m\u001b[1mOutput Shape               \u001b[0m\u001b[1m \u001b[0m┃\u001b[1m \u001b[0m\u001b[1m        Param #\u001b[0m\u001b[1m \u001b[0m┃\n",
              "┡━━━━━━━━━━━━━━━━━━━━━━━━━━━━━━━━━━━━━━╇━━━━━━━━━━━━━━━━━━━━━━━━━━━━━╇━━━━━━━━━━━━━━━━━┩\n",
              "│ glove_embedding_layer (\u001b[38;5;33mEmbedding\u001b[0m)    │ ?                           │       \u001b[38;5;34m3,283,000\u001b[0m │\n",
              "├──────────────────────────────────────┼─────────────────────────────┼─────────────────┤\n",
              "│ lstm_layer (\u001b[38;5;33mLSTM\u001b[0m)                    │ ?                           │     \u001b[38;5;34m0\u001b[0m (unbuilt) │\n",
              "├──────────────────────────────────────┼─────────────────────────────┼─────────────────┤\n",
              "│ output_layer (\u001b[38;5;33mDense\u001b[0m)                 │ ?                           │     \u001b[38;5;34m0\u001b[0m (unbuilt) │\n",
              "└──────────────────────────────────────┴─────────────────────────────┴─────────────────┘\n"
            ]
          },
          "metadata": {},
          "output_type": "display_data"
        },
        {
          "data": {
            "text/html": [
              "<pre style=\"white-space:pre;overflow-x:auto;line-height:normal;font-family:Menlo,'DejaVu Sans Mono',consolas,'Courier New',monospace\"><span style=\"font-weight: bold\"> Total params: </span><span style=\"color: #00af00; text-decoration-color: #00af00\">3,283,000</span> (12.52 MB)\n",
              "</pre>\n"
            ],
            "text/plain": [
              "\u001b[1m Total params: \u001b[0m\u001b[38;5;34m3,283,000\u001b[0m (12.52 MB)\n"
            ]
          },
          "metadata": {},
          "output_type": "display_data"
        },
        {
          "data": {
            "text/html": [
              "<pre style=\"white-space:pre;overflow-x:auto;line-height:normal;font-family:Menlo,'DejaVu Sans Mono',consolas,'Courier New',monospace\"><span style=\"font-weight: bold\"> Trainable params: </span><span style=\"color: #00af00; text-decoration-color: #00af00\">0</span> (0.00 B)\n",
              "</pre>\n"
            ],
            "text/plain": [
              "\u001b[1m Trainable params: \u001b[0m\u001b[38;5;34m0\u001b[0m (0.00 B)\n"
            ]
          },
          "metadata": {},
          "output_type": "display_data"
        },
        {
          "data": {
            "text/html": [
              "<pre style=\"white-space:pre;overflow-x:auto;line-height:normal;font-family:Menlo,'DejaVu Sans Mono',consolas,'Courier New',monospace\"><span style=\"font-weight: bold\"> Non-trainable params: </span><span style=\"color: #00af00; text-decoration-color: #00af00\">3,283,000</span> (12.52 MB)\n",
              "</pre>\n"
            ],
            "text/plain": [
              "\u001b[1m Non-trainable params: \u001b[0m\u001b[38;5;34m3,283,000\u001b[0m (12.52 MB)\n"
            ]
          },
          "metadata": {},
          "output_type": "display_data"
        }
      ],
      "source": [
        "# Create new model\n",
        "new_model = Sequential(name='new_hamlet_model')\n",
        "new_model.add(embedding_layer)\n",
        "new_model.add(LSTM(256, name='lstm_layer'))\n",
        "new_model.add(Dense(VOCAB_SIZE, activation='softmax', name='output_layer'))\n",
        "new_model.summary()"
      ]
    },
    {
      "cell_type": "code",
      "execution_count": 67,
      "id": "RkLyiLxItY6S",
      "metadata": {
        "id": "RkLyiLxItY6S"
      },
      "outputs": [],
      "source": [
        "new_model.compile(loss=SparseCategoricalCrossentropy(), optimizer=Adam())"
      ]
    },
    {
      "cell_type": "code",
      "execution_count": 68,
      "id": "fUEWE0fotcSF",
      "metadata": {
        "colab": {
          "base_uri": "https://localhost:8080/"
        },
        "id": "fUEWE0fotcSF",
        "outputId": "3c58a00b-154b-49ac-d827-3b43335b598c"
      },
      "outputs": [
        {
          "name": "stdout",
          "output_type": "stream",
          "text": [
            "Epoch 1/5\n",
            "\u001b[1m4406/4406\u001b[0m \u001b[32m━━━━━━━━━━━━━━━━━━━━\u001b[0m\u001b[37m\u001b[0m \u001b[1m281s\u001b[0m 63ms/step - loss: 7.4207 - val_loss: 6.9281\n",
            "Epoch 2/5\n",
            "\u001b[1m4406/4406\u001b[0m \u001b[32m━━━━━━━━━━━━━━━━━━━━\u001b[0m\u001b[37m\u001b[0m \u001b[1m279s\u001b[0m 63ms/step - loss: 6.2583 - val_loss: 6.8037\n",
            "Epoch 3/5\n",
            "\u001b[1m4406/4406\u001b[0m \u001b[32m━━━━━━━━━━━━━━━━━━━━\u001b[0m\u001b[37m\u001b[0m \u001b[1m279s\u001b[0m 63ms/step - loss: 5.7481 - val_loss: 6.8184\n",
            "Epoch 4/5\n",
            "\u001b[1m4406/4406\u001b[0m \u001b[32m━━━━━━━━━━━━━━━━━━━━\u001b[0m\u001b[37m\u001b[0m \u001b[1m279s\u001b[0m 63ms/step - loss: 5.3203 - val_loss: 6.8805\n",
            "Epoch 5/5\n",
            "\u001b[1m4406/4406\u001b[0m \u001b[32m━━━━━━━━━━━━━━━━━━━━\u001b[0m\u001b[37m\u001b[0m \u001b[1m279s\u001b[0m 63ms/step - loss: 4.9384 - val_loss: 6.9562\n"
          ]
        }
      ],
      "source": [
        "history = new_model.fit(\n",
        "    x=train_data_gen,\n",
        "    epochs=5,\n",
        "    batch_size=train_data_gen.batch_size,\n",
        "    validation_data=val_data_gen,\n",
        "    validation_batch_size=val_data_gen.batch_size\n",
        ")"
      ]
    },
    {
      "cell_type": "code",
      "execution_count": 71,
      "id": "5q7ythe0tn19",
      "metadata": {
        "colab": {
          "base_uri": "https://localhost:8080/",
          "height": 449
        },
        "id": "5q7ythe0tn19",
        "outputId": "5a08441c-ebe7-419a-8e9c-e796dc7c3082"
      },
      "outputs": [
        {
          "data": {
            "image/png": "[encoded data removed]",
            "text/plain": [
              "<Figure size 640x480 with 1 Axes>"
            ]
          },
          "metadata": {},
          "output_type": "display_data"
        }
      ],
      "source": [
        "plot_history(history, 'loss', 'val_loss')"
      ]
    },
    {
      "cell_type": "code",
      "execution_count": 70,
      "id": "K_llZVAUto68",
      "metadata": {
        "colab": {
          "base_uri": "https://localhost:8080/"
        },
        "id": "K_llZVAUto68",
        "outputId": "2153ef0e-6def-4c25-d4cb-9483748158a7"
      },
      "outputs": [
        {
          "data": {
            "text/plain": [
              "[\"hamlet expectation qâ\\x82\\x85 fâ\\x82\\x84 fâ\\x82\\x84 1900 assume where's qâ\\x82\\x85 drums qâ\\x82\\x83 she fâ\\x82\\x83 self ff combine their poisonous smyth come fast and kettle siege set forward and dews fire to griefe ff 3845 rann tapsters 1670 25 ff who she set qâ\\x82\\x81 the heath conj cap dev mus imp and bodl 1 2 qâ\\x82\\x83 for with a siege or a king a room qâ\\x82\\x81 if pope a head qâ\\x82\\x81 qâ\\x82\\x82 and prisons had through the most number of the first of the scene at the quartos in s s g 3626 donne pastoral rambures ed harness harness thrust rowe ed 2 3756 fâ\\x82\\x83 5278 qâ\\x82\\x83 old way heare glad my thrifts he told 670 how that ff these capell all in rowe ff and here is johnson erased as flown 3293 ff qâ\\x82\\x85 om steevens conj 6345 but yet fâ\\x82\\x84 fâ\\x82\\x84 there note qâ\\x82\\x81 q fâ\\x82\\x83 this hour tis ff and you not pope 3962 god heaven theobald heaven ff hark ff 3935 smot the duke om q a q fâ\\x82\\x81 a ff in a council to harrie 575 favourite god q heaven pope 4337 humanity amisse your rowe povertie 705 3642 collier conj descension q lecher q lad ff 3682 god god ff would q 3559 ff moath yourself it lie warburton quotes it fruitful by capell omitting in line 142 terrible case pistol rowe 4865 withdrawn 1451 god ff thy q 3392 deer gen o good boy good strong staunton conj 2933 warburton here ff 3296 ah for and in ff faith q may pray gon fâ\\x82\\x84 fâ\\x82\\x83 fâ\\x82\\x84 let's fitzwaters come capell 5122 hot ff 3622 ff 3768 advancements 3400 and will are papers at pope as an ff 4133 most could pope 204 the worst of an state capell reading hast w conj roman ff 858 caitiff tradust rowe transmittit 1335 counsell hether fâ\\x82\\x82 beares pancies fâ\\x82\\x81 shield fâ\\x82\\x82 fâ\\x82\\x84 showers fâ\\x82\\x84 fâ\\x82\\x84 5113 qâ\\x82\\x84 eat rowe â\\x80\\x9cand afraid capell spirits q 706 5602 4882 fiery theobald hanmer 3003 rites ff 4614 om q sent like two wife ff leave guildenstern steward and others qâ\\x82\\x82 omitted in fâ\\x82\\x82 theobald after and grant white rowe conj and miscarry fâ\\x82\\x81 fâ\\x82\\x83 to desd 5535 fâ\\x82\\x84 q being welcome heath conj profane throats hanmer eyes strooke o'er pope ed 2 tears the first ending bone and fâ\\x82\\x82 ff 1034 hypocrite foes qâ\\x82\\x81 within ff pointing hanmer succours 5349 ff prepare the rest vnarmde take one ff rich and the list pope out were paper collier ms 290 together on fâ\\x82\\x82 fâ\\x82\\x84 fâ\\x82\\x83 fâ\\x82\\x84 q 119 64 mar ber god's months qâ\\x82\\x83 fâ\\x82\\x84 flame qâ\\x82\\x81 fâ\\x82\\x81 fâ\\x82\\x84 granted be you fâ\\x82\\x81 fâ\\x82\\x83 lads heere ile becket conj foole qâ\\x82\\x82 land fâ\\x82\\x81 qâ\\x82\\x87 pudding ff 4980 ff 2853 975 doubly 'a warburton cosin conj olivia see note xvi 3639 deaffing collier conj 3688 delius theobald conj dering conj 3305 fâ\\x82\\x83 chapes fâ\\x82\\x82 tom conj noble fâ\\x82\\x83 ff 2252 no all songs of rowe 2750 to from while theobald where pope but hateful it be thought sworn thy staunton conj fâ\\x82\\x82 yet lost fâ\\x82\\x84 qâ\\x82\\x85 fa his feature her beauty pope 1333 is deliver'd fâ\\x82\\x82 fâ\\x82\\x84 fâ\\x82\\x84 fâ\\x82\\x82 no adoration the rest of her unarmed thine johnson theobald conj his ff the my lord pope presented the thrice sonne pope this bitter fate seymour conj this here rann tyrwhitt conj an hebrew of blasts dowln in death pope ending the line sense' admiring me on the pope exit ff enemies drums the killing power of the previous line i' in a 4073 hanmer 3102 tongue ff 2847 qq 4312 that ff she qq 6782 first ff act ii king michael he ff derived theobald 5304 out om qq th' fâ\\x82\\x82 holp his fâ\\x82\\x82 ff her theobald 4640 of my life qq thy clothes where thine q 1676 and two lines in margin 3828 enter enter othello and prose qq ff rodorigo i've theobald 1522 our om pope 6291 o sir and sir is happy have sir richard you well steevens 1778 1385 hath had all qâ\\x82\\x85 qâ\\x82\\x83 1185 hautboys qâ\\x82\\x86 qâ\\x82\\x84 qâ\\x82\\x85 co fâ\\x82\\x82 qâ\\x82\\x85 heere fâ\\x82\\x82 fâ\\x82\\x82 1473 tardy plots qâ\\x82\\x82 fâ\\x82\\x82 qâ\\x82\\x83 qâ\\x82\\x81 qâ\\x82\\x84 sure qâ\\x82\\x85 ff qâ\\x82\\x83 qâ\\x82\\x83 1907 retires most said ingrateful rest impose neglect and c pope 26 247 pyrrhus' il varies staunton collier ms may his arm pope 4529 eating fâ\\x82\\x83 fâ\\x82\\x81 qâ\\x82\\x83 ground feeling delay collier ms loving young qq reading ff transformation act ii scene of g capell exeunt 2433 every herald omitted in ff qâ\\x82\\x85 my qâ\\x82\\x83 what qq on your mercy you fâ\\x82\\x81 ff 1688 her other my news om ff qâ\\x82\\x85 qâ\\x82\\x88 1618 earthy qâ\\x82\\x82 qâ\\x82\\x82 detestable qâ\\x82\\x81 qâ\\x82\\x83 fâ\\x82\\x84 fâ\\x82\\x83 fâ\\x82\\x81 fâ\\x82\\x82 vaded never fâ\\x82\\x83 fâ\\x82\\x84 qq lancheth fâ\\x82\\x81 fâ\\x82\\x82 does't sides qâ\\x82\\x82 fâ\\x82\\x84 qâ\\x82\\x86 fâ\\x82\\x82 mor theobald conj beast 5371 fâ\\x82\\x83 reels enraged qq toples virtuous 1442 edwards warburton conj then 294 and she had i'd qâ\\x82\\x83 fâ\\x82\\x84 qâ\\x82\\x86 theobald alcides qâ\\x82\\x86 after the laws of the world the 'certes visage 5485 fâ\\x82\\x84 the last fâ\\x82\\x81 3168 rule so shapes with upward to see staunton conj misc obs k ebooks 3459 fâ\\x82\\x83 'hates' qâ\\x82\\x83 fâ\\x82\\x83 1329 he is direct to that action qâ\\x82\\x86 than thing pope 1984 ay then capell 2921 2956 spake qâ\\x82\\x81 1303 'tis 5041 myself in qâ\\x82\\x82 qâ\\x82\\x82 qâ\\x82\\x84 bestow'd instruct boswell qq richardson collier conj sprightful becket conj whereon them that thou wouldst 6515 thou sun qq om ff stamps had herself keightley conj cases submission qq stings there is too foole by a treasons spots and going in a pass sense of seen 4683 reading in my tables a 5021 nymph or an fine apple and i'll the blossom with able 1808 2616 2387 than dearer to buy a more respect to tho' the open flaw sec 15 gent but had up i singing to arthur silence have giue by the easy sinewed on the basket will full blush faith with falstaff 10 to some moe it with you show us des 4767 61 not lived 3721 conj corporal i shall wilful them it to 2051 2224 15 bend no blasts and murder lod he very sick 'tis\"]"
            ]
          },
          "execution_count": 70,
          "metadata": {},
          "output_type": "execute_result"
        }
      ],
      "source": [
        "# Generate text with new model\n",
        "generate_text(new_model, tokenizer, 'hamlet', train_data_gen.seq_len)"
      ]
    },
    {
      "cell_type": "markdown",
      "id": "742095fb",
      "metadata": {
        "id": "742095fb"
      },
      "source": [
        "## Criteria\n",
        "\n",
        "|Criteria|Complete|Incomplete|\n",
        "|----|----|----|\n",
        "|Task 1|The task has been completed successfully and there are no errors.|The task is still incomplete and there is at least one error.|\n",
        "|Task 2|The task has been completed successfully and there are no errors.|The task is still incomplete and there is at least one error.|\n",
        "|Task 3|The task has been completed successfully and there are no errors.|The task is still incomplete and there is at least one error.|\n",
        "|Task 4|The task has been completed successfully and there are no errors.|The task is still incomplete and there is at least one error.|"
      ]
    },
    {
      "cell_type": "markdown",
      "id": "1990e2d2",
      "metadata": {
        "id": "1990e2d2"
      },
      "source": [
        "## Submission Information\n",
        "\n",
        "🚨**Please review our [Assignment Submission Guide](https://github.com/UofT-DSI/onboarding/blob/main/onboarding_documents/submissions.md)**🚨 for detailed instructions on how to format, branch, and submit your work. Following these guidelines is crucial for your submissions to be evaluated correctly.\n",
        "\n",
        "### Submission Parameters:\n",
        "* Submission Due Date: `HH:MM AM/PM - DD/MM/YYYY`\n",
        "* The branch name for your repo should be: `assignment-2`\n",
        "* What to submit for this assignment:\n",
        "    * This Jupyter Notebook (assignment_2.ipynb) should be populated and should be the only change in your pull request.\n",
        "* What the pull request link should look like for this assignment: `https://github.com/<your_github_username>/deep_learning/pull/<pr_id>`\n",
        "    * Open a private window in your browser. Copy and paste the link to your pull request into the address bar. Make sure you can see your pull request properly. This helps the technical facilitator and learning support staff review your submission easily.\n",
        "\n",
        "Checklist:\n",
        "- [ ] Created a branch with the correct naming convention.\n",
        "- [ ] Ensured that the repository is public.\n",
        "- [ ] Reviewed the PR description guidelines and adhered to them.\n",
        "- [ ] Verify that the link is accessible in a private browser window.\n",
        "\n",
        "If you encounter any difficulties or have questions, please don't hesitate to reach out to our team via our Slack at `#cohort-3-help`. Our Technical Facilitators and Learning Support staff are here to help you navigate any challenges."
      ]
    }
  ],
  "metadata": {
    "accelerator": "GPU",
    "colab": {
      "gpuType": "L4",
      "machine_shape": "hm",
      "provenance": []
    },
    "kernelspec": {
      "display_name": "Python 3",
      "name": "python3"
    },
    "language_info": {
      "codemirror_mode": {
        "name": "ipython",
        "version": 3
      },
      "file_extension": ".py",
      "mimetype": "text/x-python",
      "name": "python",
      "nbconvert_exporter": "python",
      "pygments_lexer": "ipython3",
      "version": "3.9.19"
    }
  },
  "nbformat": 4,
  "nbformat_minor": 5
}
